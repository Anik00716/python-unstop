{
 "cells": [
  {
   "cell_type": "code",
   "execution_count": 1,
   "metadata": {},
   "outputs": [
    {
     "name": "stdout",
     "output_type": "stream",
     "text": [
      "Not less than 10\n"
     ]
    }
   ],
   "source": [
    "num = 20\n",
    "\n",
    "if num < 10:\n",
    "    print(\"Number is less than 10\")\n",
    "\n",
    "else:\n",
    "    print(\"Not less than 10\")"
   ]
  },
  {
   "cell_type": "code",
   "execution_count": 2,
   "metadata": {},
   "outputs": [
    {
     "name": "stdout",
     "output_type": "stream",
     "text": [
      "less than 10\n",
      "Less than 5\n"
     ]
    }
   ],
   "source": [
    "num = 3\n",
    "\n",
    "if num <10:\n",
    "    print('less than 10')\n",
    "    if num < 5:\n",
    "        print('Less than 5')"
   ]
  },
  {
   "cell_type": "code",
   "execution_count": 6,
   "metadata": {},
   "outputs": [
    {
     "name": "stdout",
     "output_type": "stream",
     "text": [
      "Not Grade A\n"
     ]
    }
   ],
   "source": [
    "marks = 85\n",
    "\n",
    "if marks > 90:\n",
    "    print(\"Grade A\")\n",
    "\n",
    "else:\n",
    "    print(\"Not Grade A\")"
   ]
  },
  {
   "cell_type": "code",
   "execution_count": 8,
   "metadata": {},
   "outputs": [
    {
     "name": "stdout",
     "output_type": "stream",
     "text": [
      "Grade B\n"
     ]
    }
   ],
   "source": [
    "marks = 85\n",
    "\n",
    "if marks > 90:\n",
    "    print('Grade A')\n",
    "elif marks > 80:\n",
    "    print(\"Grade B\")\n",
    "elif marks > 70:\n",
    "    print('Grade C')\n",
    "elif marks > 60:\n",
    "    print('Grade D')\n",
    "\n",
    "else:\n",
    "    print('Fail')"
   ]
  },
  {
   "cell_type": "code",
   "execution_count": 9,
   "metadata": {},
   "outputs": [
    {
     "name": "stdout",
     "output_type": "stream",
     "text": [
      "Grade B\n",
      "Grade C\n",
      "Grade D\n"
     ]
    }
   ],
   "source": [
    "marks = 85\n",
    "\n",
    "if marks > 90:\n",
    "    print('Grade A')\n",
    "if marks > 80:\n",
    "    print(\"Grade B\")\n",
    "if marks > 70:\n",
    "    print('Grade C')\n",
    "if marks > 60:\n",
    "    print('Grade D')\n",
    "\n",
    "else:\n",
    "    print('Fail')"
   ]
  },
  {
   "cell_type": "code",
   "execution_count": null,
   "metadata": {},
   "outputs": [],
   "source": []
  }
 ],
 "metadata": {
  "kernelspec": {
   "display_name": "Python 3",
   "language": "python",
   "name": "python3"
  },
  "language_info": {
   "codemirror_mode": {
    "name": "ipython",
    "version": 3
   },
   "file_extension": ".py",
   "mimetype": "text/x-python",
   "name": "python",
   "nbconvert_exporter": "python",
   "pygments_lexer": "ipython3",
   "version": "3.12.2"
  }
 },
 "nbformat": 4,
 "nbformat_minor": 2
}
